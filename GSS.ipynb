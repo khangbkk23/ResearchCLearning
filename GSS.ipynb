{
 "cells": [
  {
   "cell_type": "markdown",
   "id": "169a79a6",
   "metadata": {},
   "source": [
    "# GSS"
   ]
  },
  {
   "cell_type": "code",
   "execution_count": 1,
   "id": "bee78878",
   "metadata": {},
   "outputs": [
    {
     "name": "stdout",
     "output_type": "stream",
     "text": [
      "Using device: cpu\n",
      "Notebook last modified at: 2025-07-28 23:25:44\n"
     ]
    }
   ],
   "source": [
    "# Import the libraries\n",
    "import torch\n",
    "import torch.nn as nn\n",
    "import torch.optim as optim\n",
    "import torch.nn.functional as F\n",
    "from torchvision import datasets, transforms\n",
    "\n",
    "from torchvision.models import resnet34 as torchvision_resnet34\n",
    "\n",
    "from torch.utils.data import DataLoader, Subset, random_split, TensorDataset\n",
    "\n",
    "import numpy as np\n",
    "import matplotlib.pyplot as plt\n",
    "import datetime\n",
    "from collections import defaultdict\n",
    "\n",
    "# Checking status of GPU and time\n",
    "device = torch.device(\"cuda\" if torch.cuda.is_available() else \"cpu\")\n",
    "print(f\"Using device: {device}\")\n",
    "print(f\"Notebook last modified at: {datetime.datetime.now().strftime('%Y-%m-%d %H:%M:%S')}\")"
   ]
  },
  {
   "cell_type": "markdown",
   "id": "c3707895",
   "metadata": {},
   "source": [
    "## Implement GSS greedy"
   ]
  },
  {
   "cell_type": "code",
   "execution_count": null,
   "id": "e1825b0a",
   "metadata": {},
   "outputs": [],
   "source": [
    "def compute_gradient(model, x, y, loss_fn, device):\n",
    "    \"\"\"Compute normalized gradient for a single sample\"\"\"\n",
    "    model.eval()\n",
    "    x, y = x.unsqueeze(0).to(device), y.unsqueeze(0).to(device)\n",
    "    model.zero_grad()\n",
    "    features, logits = model(x)\n",
    "    loss = loss_fn(logits, y)\n",
    "    loss.backward()\n",
    "    \n",
    "    # Collect gradients\n",
    "    grad = []\n",
    "    for param in model.parameters():\n",
    "        if param.grad is not None:\n",
    "            grad.append(param.grad.flatten())\n",
    "    grad = torch.cat(grad)\n",
    "    grad_norm = torch.norm(grad, p=2)\n",
    "    return grad / (grad_norm + 1e-8)  # Normalize gradient\n",
    "\n",
    "def gss_greedy_selection(model, data_loader, num_exemplars_per_class, loss_fn, device):\n",
    "    \"\"\"GSS-Greedy exemplar selection\"\"\"\n",
    "    model.eval()\n",
    "    exemplars = defaultdict(list)\n",
    "    for class_id in range(data_loader.dataset.num_classes):\n",
    "        # Get class-specific data\n",
    "        class_samples = [(x, y) for x, y in data_loader.dataset if y == class_id]\n",
    "        if not class_samples:\n",
    "            continue\n",
    "        \n",
    "        # Compute gradients for all samples\n",
    "        gradients = []\n",
    "        samples = []\n",
    "        for x, y in class_samples:\n",
    "            grad = compute_gradient(model, x, y, loss_fn, device)\n",
    "            gradients.append(grad)\n",
    "            samples.append((x, y))\n",
    "        \n",
    "        # Greedy selection\n",
    "        selected_indices = []\n",
    "        for _ in range(min(num_exemplars_per_class, len(samples))):\n",
    "            if not selected_indices:\n",
    "                # Pick first sample randomly\n",
    "                idx = np.random.randint(0, len(samples))\n",
    "            else:\n",
    "                # Compute max-min distance in gradient space\n",
    "                distances = []\n",
    "                for i, grad in enumerate(gradients):\n",
    "                    if i in selected_indices:\n",
    "                        continue\n",
    "                    min_dist = min([torch.norm(grad - gradients[j]) for j in selected_indices])\n",
    "                    distances.append((i, min_dist))\n",
    "                idx = max(distances, key=lambda x: x[1])[0]\n",
    "            selected_indices.append(idx)\n",
    "        \n",
    "        # Store selected exemplars\n",
    "        for idx in selected_indices:\n",
    "            exemplars[class_id].append(samples[idx])\n",
    "    \n",
    "    return exemplars"
   ]
  }
 ],
 "metadata": {
  "kernelspec": {
   "display_name": "research-venv",
   "language": "python",
   "name": "python3"
  },
  "language_info": {
   "codemirror_mode": {
    "name": "ipython",
    "version": 3
   },
   "file_extension": ".py",
   "mimetype": "text/x-python",
   "name": "python",
   "nbconvert_exporter": "python",
   "pygments_lexer": "ipython3",
   "version": "3.12.3"
  }
 },
 "nbformat": 4,
 "nbformat_minor": 5
}
